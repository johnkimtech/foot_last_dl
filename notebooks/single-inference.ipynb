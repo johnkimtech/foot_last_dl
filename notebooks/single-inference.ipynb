{
 "cells": [
  {
   "cell_type": "code",
   "execution_count": 1,
   "metadata": {},
   "outputs": [
    {
     "name": "stdout",
     "output_type": "stream",
     "text": [
      "/home/hoang/code/foot_last_dl\n"
     ]
    }
   ],
   "source": [
    "%load_ext autoreload\n",
    "%autoreload 2\n",
    "%cd /home/hoang/code/foot_last_dl\n"
   ]
  },
  {
   "cell_type": "code",
   "execution_count": 1,
   "metadata": {},
   "outputs": [],
   "source": [
    "# %%time\n",
    "# !python test_regression.py --model pointnet2_regression_attn --exp_name attn_ft_do --device cuda --root_dir \"data/3D_All\""
   ]
  },
  {
   "cell_type": "code",
   "execution_count": 2,
   "metadata": {},
   "outputs": [
    {
     "name": "stdout",
     "output_type": "stream",
     "text": [
      "Jupyter environment detected. Enabling Open3D WebVisualizer.\n",
      "[Open3D INFO] WebRTC GUI backend enabled.\n",
      "[Open3D INFO] WebRTCWindowSystem: HTTP handshake server disabled.\n"
     ]
    }
   ],
   "source": [
    "import re\n",
    "import os\n",
    "from pathlib import Path\n",
    "from data_utils import helpers"
   ]
  },
  {
   "cell_type": "code",
   "execution_count": null,
   "metadata": {},
   "outputs": [],
   "source": []
  },
  {
   "cell_type": "code",
   "execution_count": 4,
   "metadata": {},
   "outputs": [],
   "source": [
    "FOOT_STL = 'data/3D_81/stl/Foot/1/202309141007lA.stl'\n",
    "\n",
    "pcloud_data = helpers.stl_to_xyz_with_normals_vectorized(FOOT_STL, stride=10, permutate=True, with_normals=False)"
   ]
  },
  {
   "cell_type": "code",
   "execution_count": 8,
   "metadata": {},
   "outputs": [
    {
     "ename": "AttributeError",
     "evalue": "type object 'args' has no attribute 'exp_name'",
     "output_type": "error",
     "traceback": [
      "\u001b[0;31m---------------------------------------------------------------------------\u001b[0m",
      "\u001b[0;31mAttributeError\u001b[0m                            Traceback (most recent call last)",
      "Cell \u001b[0;32mIn[8], line 11\u001b[0m\n\u001b[1;32m      8\u001b[0m args\u001b[39m.\u001b[39mdevice \u001b[39m=\u001b[39m \u001b[39m\"\u001b[39m\u001b[39mcuda\u001b[39m\u001b[39m\"\u001b[39m\n\u001b[1;32m      9\u001b[0m args\u001b[39m.\u001b[39muse_skip_connection \u001b[39m=\u001b[39m \u001b[39mFalse\u001b[39;00m\n\u001b[0;32m---> 11\u001b[0m EXP_DIR \u001b[39m=\u001b[39m Path(\u001b[39m\"\u001b[39m\u001b[39mlog/regression\u001b[39m\u001b[39m\"\u001b[39m) \u001b[39m/\u001b[39m args\u001b[39m.\u001b[39;49mexp_name\n\u001b[1;32m     12\u001b[0m CKPT_DIR \u001b[39m=\u001b[39m EXP_DIR \u001b[39m/\u001b[39m \u001b[39m\"\u001b[39m\u001b[39mcheckpoints\u001b[39m\u001b[39m\"\u001b[39m\n\u001b[1;32m     13\u001b[0m LOG_DIR \u001b[39m=\u001b[39m EXP_DIR \u001b[39m/\u001b[39m \u001b[39m\"\u001b[39m\u001b[39mlogs\u001b[39m\u001b[39m\"\u001b[39m\n",
      "\u001b[0;31mAttributeError\u001b[0m: type object 'args' has no attribute 'exp_name'"
     ]
    }
   ],
   "source": [
    "from collections import namedtuple\n",
    "\n",
    "args = namedtuple(\"args\", \"backbone_model model use_normals device use_skip_connection\")\n",
    "\n",
    "args.exp_name = \"attn_ft_do\"\n",
    "args.backbone_model = \"pointnet2_cls_ssg\"\n",
    "args.model = \"pointnet2_regression_attn\"\n",
    "args.use_normals = False\n",
    "args.device = \"cuda\"\n",
    "args.use_skip_connection = False\n",
    "\n",
    "EXP_DIR = Path(\"log/regression\") / args.exp_name\n",
    "CKPT_DIR = EXP_DIR / \"checkpoints\"\n",
    "LOG_DIR = EXP_DIR / \"logs\""
   ]
  },
  {
   "cell_type": "code",
   "execution_count": null,
   "metadata": {},
   "outputs": [],
   "source": [
    "regressor = model.get_model(\n",
    "    backbone_model_name=f\"{libpath}.{args.backbone_model}\",\n",
    "    backbone_pretrained_path=None,\n",
    "    backbone_frozen=True,\n",
    "    backbone_outdims=args.backbone_outdims,\n",
    "    num_class=42,\n",
    "    normal_channel=args.use_normals,\n",
    "    n_out_dims=args.out_features,\n",
    "    use_skip_connection=args.use_skip_connection,\n",
    ")"
   ]
  },
  {
   "cell_type": "code",
   "execution_count": null,
   "metadata": {},
   "outputs": [],
   "source": []
  },
  {
   "cell_type": "code",
   "execution_count": null,
   "metadata": {},
   "outputs": [],
   "source": []
  },
  {
   "cell_type": "code",
   "execution_count": null,
   "metadata": {},
   "outputs": [],
   "source": []
  },
  {
   "cell_type": "code",
   "execution_count": 5,
   "metadata": {},
   "outputs": [
    {
     "name": "stdout",
     "output_type": "stream",
     "text": [
      "CPU times: user 808 µs, sys: 0 ns, total: 808 µs\n",
      "Wall time: 2.01 s\n"
     ]
    }
   ],
   "source": [
    "%%time\n",
    "\n",
    "import time\n",
    "\n",
    "time.sleep(2)"
   ]
  }
 ],
 "metadata": {
  "kernelspec": {
   "display_name": "torch",
   "language": "python",
   "name": "python3"
  },
  "language_info": {
   "codemirror_mode": {
    "name": "ipython",
    "version": 3
   },
   "file_extension": ".py",
   "mimetype": "text/x-python",
   "name": "python",
   "nbconvert_exporter": "python",
   "pygments_lexer": "ipython3",
   "version": "3.10.13"
  },
  "orig_nbformat": 4
 },
 "nbformat": 4,
 "nbformat_minor": 2
}
